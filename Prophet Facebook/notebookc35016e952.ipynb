{
 "cells": [
  {
   "cell_type": "markdown",
   "metadata": {},
   "source": [
    "<a class=\"anchor\" id=\"0\"></a>\n",
    "# **Tutorial : Time Series Forecasting with Prophet**\n",
    "\n",
    "\n",
    "\n",
    "Hello friends,\n",
    "\n",
    "\n",
    "In the previous notebooks, we have discussed [Time Series Analysis with Python](https://www.kaggle.com/prashant111/complete-guide-on-time-series-analysis-in-python) and [ARIMA Model for Time Series Forecasting](https://www.kaggle.com/prashant111/arima-model-for-time-series-forecasting). In this notebook, we will make a time series forecast using Facebook’s time series model [Prophet](https://facebook.github.io/prophet/). First up, we will discuss [Prophet](https://facebook.github.io/prophet/),  its advantages and make a time series forecast with [Prophet](https://facebook.github.io/prophet/).\n",
    "\n",
    "\n",
    "So, let's get started."
   ]
  },
  {
   "cell_type": "markdown",
   "metadata": {},
   "source": [
    "### **I hope you find this notebook useful and your <font color=\"red\"><b>UPVOTES</b></font> keep me motivated.**\n",
    "\n"
   ]
  },
  {
   "cell_type": "markdown",
   "metadata": {},
   "source": [
    "<a class=\"anchor\" id=\"0.1\"></a>\n",
    "# **Table of Contents**\n",
    "\n",
    "\n",
    "1.\t[Introduction to Prophet](#1)\n",
    "2.\t[Advantages of Prophet](#2)\n",
    "3.\t[Installation of Prophet](#3)\n",
    "4.\t[Python API](#4)\n",
    "5.\t[Basic Setup](#5)\n",
    "6.\t[Time Series Forecasting with Prophet](#6)\n",
    "7.\t[Plotted the forecasted components](#7)\n",
    "8.\t[Adding ChangePoints to Prophet](#8)\n",
    "9.\t[Adjusting Trend](#9)\n",
    "10.\t[Conclusion](#10)\n",
    "11.\t [References](#11)\n",
    "\n"
   ]
  },
  {
   "cell_type": "markdown",
   "metadata": {},
   "source": [
    "# **1. Introduction to Prophet** <a class=\"anchor\" id=\"1\"></a>\n",
    "\n",
    "[Table of Contents](#0.1)\n",
    "\n",
    "\n",
    "The official [Prophet](https://facebook.github.io/prophet/) homepage states that-\n",
    "\n",
    "   *Prophet is a procedure for forecasting time series data based on an additive model where non-linear trends are fit with yearly, weekly, and daily seasonality, plus holiday effects. It works best with time series that have strong seasonal effects and several seasons of historical data. Prophet is robust to missing data and shifts in the trend, and typically handles outliers well.*\n",
    "\n",
    "   *Prophet is open source software released by Facebook’s Core Data Science team. It is available for download on CRAN and PyPI.*\n",
    "\n",
    "\n",
    "- So, [Prophet](https://facebook.github.io/prophet/) is the facebooks’ open source tool for making time series predictions.\n",
    "\n",
    "- [Prophet](https://facebook.github.io/prophet/) decomposes time series data into trend, seasonality and holiday effect.\n",
    "\n",
    "- **Trend** models non periodic changes in the time series data.\n",
    "\n",
    "- **Seasonality** is caused due to the periodic changes like daily, weekly, or yearly seasonality.\n",
    "\n",
    "- **Holiday effect** which occur on irregular schedules over a day or a period of days.\n",
    "\n",
    "- **Error terms** is what is not explained by the model.\n",
    "\n"
   ]
  },
  {
   "cell_type": "markdown",
   "metadata": {},
   "source": [
    "# **2. Advantages of Prophet** <a class=\"anchor\" id=\"2\"></a>\n",
    "\n",
    "[Table of Contents](#0.1) \n",
    "\n",
    "\n",
    "\n",
    "[Prophet](https://facebook.github.io/prophet/) has several advantages associated with it. These are given below:-\n",
    "\n",
    "- **1. Accurate and fast** - Prophet is accurate and fast. It is used in many applications across Facebook for producing reliable forecasts for planning and goal setting. \n",
    "\n",
    "\n",
    "- **2. Fully automatic** - Prophet is fully automatic. We will get a reasonable forecast on messy data with no manual effort. \n",
    "\n",
    "\n",
    "- **3. Tunable forecasts** - Prophet produces adjustable forecasts. It includes many possibilities for users to tweak and adjust forecasts. We can use human-interpretable parameters to improve the forecast by adding our domain knowledge.\n",
    "\n",
    "\n",
    "- **4. Available in R or Python** - We can implement the Prophet procedure in R or Python. \n",
    "\n",
    "\n",
    "\n",
    "- **5. Handles seasonal variations well** - Prophet accommodates seasonality with multiple periods.\n",
    "\n",
    "\n",
    "\n",
    "- **6. Robust to outliers** - It is robust to outliers. It handles outliers by removing them.\n",
    "\n",
    "\n",
    "\n",
    "- **7. Robust to missing data** - Prophet is resilient to missing data."
   ]
  },
  {
   "cell_type": "markdown",
   "metadata": {},
   "source": [
    "# **3. Installation of Prophet** <a class=\"anchor\" id=\"3\"></a>\n",
    "\n",
    "\n",
    "[Table of Contents](#0.1) \n",
    "\n",
    "\n",
    "\n",
    "- We can install Prophet using either command prompt or Anaconda prompt using pip as follows-"
   ]
  },
  {
   "cell_type": "code",
   "execution_count": 2,
   "metadata": {},
   "outputs": [
    {
     "name": "stdout",
     "output_type": "stream",
     "text": [
      "Collecting fbprophetNote: you may need to restart the kernel to use updated packages.\n"
     ]
    },
    {
     "name": "stderr",
     "output_type": "stream",
     "text": [
      "  error: subprocess-exited-with-error\n",
      "  \n",
      "  python setup.py egg_info did not run successfully.\n",
      "  exit code: 1\n",
      "  \n",
      "  [6 lines of output]\n",
      "  Traceback (most recent call last):\n",
      "    File \"<string>\", line 2, in <module>\n",
      "    File \"<pip-setuptools-caller>\", line 34, in <module>\n",
      "    File \"C:\\Users\\USER\\AppData\\Local\\Temp\\pip-install-5_hemnif\\pystan_b99a8289660849a2bed73b57a00e7a00\\setup.py\", line 122, in <module>\n",
      "      from Cython.Build.Inline import _get_build_extension\n",
      "  ModuleNotFoundError: No module named 'Cython'\n",
      "  [end of output]\n",
      "  \n",
      "  note: This error originates from a subprocess, and is likely not a problem with pip.\n",
      "error: metadata-generation-failed\n",
      "\n",
      "Encountered error while generating package metadata.\n",
      "\n",
      "See above for output.\n",
      "\n",
      "note: This is an issue with the package mentioned above, not pip.\n",
      "hint: See above for details.\n"
     ]
    },
    {
     "name": "stdout",
     "output_type": "stream",
     "text": [
      "\n",
      "  Using cached fbprophet-0.7.1.tar.gz (64 kB)\n",
      "  Preparing metadata (setup.py): started\n",
      "  Preparing metadata (setup.py): finished with status 'done'\n",
      "Collecting Cython>=0.22 (from fbprophet)\n",
      "  Using cached Cython-3.0.12-cp312-cp312-win_amd64.whl.metadata (3.6 kB)\n",
      "Collecting cmdstanpy==0.9.5 (from fbprophet)\n",
      "  Using cached cmdstanpy-0.9.5-py3-none-any.whl.metadata (2.9 kB)\n",
      "Collecting pystan>=2.14 (from fbprophet)\n",
      "  Using cached pystan-3.10.0-py3-none-any.whl.metadata (3.7 kB)\n",
      "Requirement already satisfied: numpy>=1.15.4 in c:\\users\\user\\appdata\\local\\programs\\python\\python312\\lib\\site-packages (from fbprophet) (1.26.4)\n",
      "Requirement already satisfied: pandas>=1.0.4 in c:\\users\\user\\appdata\\local\\programs\\python\\python312\\lib\\site-packages (from fbprophet) (2.2.3)\n",
      "Requirement already satisfied: matplotlib>=2.0.0 in c:\\users\\user\\appdata\\local\\programs\\python\\python312\\lib\\site-packages (from fbprophet) (3.9.2)\n",
      "Collecting LunarCalendar>=0.0.9 (from fbprophet)\n",
      "  Using cached LunarCalendar-0.0.9-py2.py3-none-any.whl.metadata (6.3 kB)\n",
      "Collecting convertdate>=2.1.2 (from fbprophet)\n",
      "  Using cached convertdate-2.4.0-py3-none-any.whl.metadata (8.3 kB)\n",
      "Collecting holidays>=0.10.2 (from fbprophet)\n",
      "  Using cached holidays-0.68-py3-none-any.whl.metadata (27 kB)\n",
      "Collecting setuptools-git>=1.2 (from fbprophet)\n",
      "  Using cached setuptools_git-1.2-py2.py3-none-any.whl.metadata (5.8 kB)\n",
      "Requirement already satisfied: python-dateutil>=2.8.0 in c:\\users\\user\\appdata\\local\\programs\\python\\python312\\lib\\site-packages (from fbprophet) (2.9.0.post0)\n",
      "Collecting tqdm>=4.36.1 (from fbprophet)\n",
      "  Using cached tqdm-4.67.1-py3-none-any.whl.metadata (57 kB)\n",
      "Collecting pymeeus<=1,>=0.3.13 (from convertdate>=2.1.2->fbprophet)\n",
      "  Using cached PyMeeus-0.5.12.tar.gz (5.8 MB)\n",
      "  Preparing metadata (setup.py): started\n",
      "  Preparing metadata (setup.py): finished with status 'done'\n",
      "Collecting ephem>=3.7.5.3 (from LunarCalendar>=0.0.9->fbprophet)\n",
      "  Using cached ephem-4.2-cp312-cp312-win_amd64.whl.metadata (6.4 kB)\n",
      "Requirement already satisfied: pytz in c:\\users\\user\\appdata\\local\\programs\\python\\python312\\lib\\site-packages (from LunarCalendar>=0.0.9->fbprophet) (2024.2)\n",
      "Requirement already satisfied: contourpy>=1.0.1 in c:\\users\\user\\appdata\\local\\programs\\python\\python312\\lib\\site-packages (from matplotlib>=2.0.0->fbprophet) (1.3.0)\n",
      "Requirement already satisfied: cycler>=0.10 in c:\\users\\user\\appdata\\local\\programs\\python\\python312\\lib\\site-packages (from matplotlib>=2.0.0->fbprophet) (0.12.1)\n",
      "Requirement already satisfied: fonttools>=4.22.0 in c:\\users\\user\\appdata\\local\\programs\\python\\python312\\lib\\site-packages (from matplotlib>=2.0.0->fbprophet) (4.54.1)\n",
      "Requirement already satisfied: kiwisolver>=1.3.1 in c:\\users\\user\\appdata\\local\\programs\\python\\python312\\lib\\site-packages (from matplotlib>=2.0.0->fbprophet) (1.4.7)\n",
      "Requirement already satisfied: packaging>=20.0 in c:\\users\\user\\appdata\\local\\programs\\python\\python312\\lib\\site-packages (from matplotlib>=2.0.0->fbprophet) (24.1)\n",
      "Requirement already satisfied: pillow>=8 in c:\\users\\user\\appdata\\local\\programs\\python\\python312\\lib\\site-packages (from matplotlib>=2.0.0->fbprophet) (10.4.0)\n",
      "Requirement already satisfied: pyparsing>=2.3.1 in c:\\users\\user\\appdata\\local\\programs\\python\\python312\\lib\\site-packages (from matplotlib>=2.0.0->fbprophet) (3.1.4)\n",
      "Requirement already satisfied: tzdata>=2022.7 in c:\\users\\user\\appdata\\local\\programs\\python\\python312\\lib\\site-packages (from pandas>=1.0.4->fbprophet) (2024.2)\n",
      "Collecting aiohttp<4.0,>=3.6 (from pystan>=2.14->fbprophet)\n",
      "  Using cached aiohttp-3.11.13-cp312-cp312-win_amd64.whl.metadata (8.0 kB)\n",
      "Collecting clikit<0.7,>=0.6 (from pystan>=2.14->fbprophet)\n",
      "  Using cached clikit-0.6.2-py2.py3-none-any.whl.metadata (1.6 kB)\n",
      "INFO: pip is looking at multiple versions of pystan to determine which version is compatible with other requirements. This could take a while.\n",
      "Collecting pystan>=2.14 (from fbprophet)\n",
      "  Using cached pystan-3.9.1-py3-none-any.whl.metadata (3.7 kB)\n",
      "  Using cached pystan-3.9.0-py3-none-any.whl.metadata (3.7 kB)\n",
      "  Using cached pystan-3.8.0-py3-none-any.whl.metadata (3.8 kB)\n",
      "  Using cached pystan-3.7.0-py3-none-any.whl.metadata (3.7 kB)\n",
      "  Using cached pystan-3.6.0-py3-none-any.whl.metadata (3.7 kB)\n",
      "  Using cached pystan-3.5.0-py3-none-any.whl.metadata (3.7 kB)\n",
      "  Using cached pystan-3.4.0-py3-none-any.whl.metadata (3.7 kB)\n",
      "INFO: pip is still looking at multiple versions of pystan to determine which version is compatible with other requirements. This could take a while.\n",
      "  Using cached pystan-3.3.0-py3-none-any.whl.metadata (3.6 kB)\n",
      "  Using cached pystan-3.2.0-py3-none-any.whl.metadata (3.6 kB)\n",
      "  Using cached pystan-3.1.1-py3-none-any.whl.metadata (3.6 kB)\n",
      "  Using cached pystan-3.1.0-py3-none-any.whl.metadata (3.6 kB)\n",
      "  Using cached pystan-3.0.2-py3-none-any.whl.metadata (3.6 kB)\n",
      "INFO: This is taking longer than usual. You might need to provide the dependency resolver with stricter constraints to reduce runtime. See https://pip.pypa.io/warnings/backtracking for guidance. If you want to abort this run, press Ctrl + C.\n",
      "  Using cached pystan-3.0.1-py3-none-any.whl.metadata (3.6 kB)\n",
      "  Using cached pystan-3.0.0-py3-none-any.whl.metadata (3.6 kB)\n",
      "  Using cached pystan-2.19.1.1.tar.gz (16.2 MB)\n",
      "  Preparing metadata (setup.py): started\n",
      "  Preparing metadata (setup.py): finished with status 'error'\n"
     ]
    }
   ],
   "source": [
    "pip install fbprophet"
   ]
  },
  {
   "cell_type": "code",
   "execution_count": null,
   "metadata": {},
   "outputs": [],
   "source": [
    "!pip install prophet"
   ]
  },
  {
   "cell_type": "code",
   "execution_count": null,
   "metadata": {},
   "outputs": [],
   "source": [
    "from prophet import Prophet\n",
    "from prophet.plot import plot_plotly\n",
    "import plotly.offline as py\n",
    "py.init_notebook_mode()"
   ]
  },
  {
   "cell_type": "markdown",
   "metadata": {},
   "source": [
    "# **4. Python API** <a class=\"anchor\" id=\"4\"></a>\n",
    "\n",
    "\n",
    "[Table of Contents](#0.1) \n",
    "\n",
    "\n",
    "- [Prophet](https://facebook.github.io/prophet/docs/quick_start.html#python-api) follows the sklearn model API. \n",
    "\n",
    "- First up, we create an instance of the Prophet class and then call its fit and predict methods.\n",
    "\n",
    "- **The input to Prophet is always a dataframe with two columns** - **ds** and **y**. \n",
    "\n",
    "- The **ds (datestamp)** column should be of a format expected by Pandas, ideally YYYY-MM-DD for a date or YYYY-MM-DD HH:MM:SS for a timestamp. \n",
    "\n",
    "- The **y** column must be numeric, and represents the measurement we wish to forecast."
   ]
  },
  {
   "cell_type": "markdown",
   "metadata": {},
   "source": [
    "# **5. Basic Setup** <a class=\"anchor\" id=\"5\"></a>\n",
    "\n",
    "\n",
    "[Table of Contents](#0.1) \n",
    "\n",
    "\n",
    "- Now wel will dive right in and see how to make time series predictions using Prophet.\n",
    "\n",
    "- We will explore the change points, how to include holidays and then add multiple regressors.\n",
    "\n",
    "- First up, we will import the required libraries and the data."
   ]
  },
  {
   "cell_type": "markdown",
   "metadata": {},
   "source": [
    "### **Import libraries**"
   ]
  },
  {
   "cell_type": "code",
   "execution_count": 1,
   "metadata": {},
   "outputs": [
    {
     "ename": "ModuleNotFoundError",
     "evalue": "No module named 'fbprophet'",
     "output_type": "error",
     "traceback": [
      "\u001b[1;31m---------------------------------------------------------------------------\u001b[0m",
      "\u001b[1;31mModuleNotFoundError\u001b[0m                       Traceback (most recent call last)",
      "Cell \u001b[1;32mIn[1], line 1\u001b[0m\n\u001b[1;32m----> 1\u001b[0m \u001b[38;5;28;01mimport\u001b[39;00m \u001b[38;5;21;01mfbprophet\u001b[39;00m\n",
      "\u001b[1;31mModuleNotFoundError\u001b[0m: No module named 'fbprophet'"
     ]
    }
   ],
   "source": [
    "import fbprophet"
   ]
  },
  {
   "cell_type": "code",
   "execution_count": 3,
   "metadata": {},
   "outputs": [
    {
     "ename": "ModuleNotFoundError",
     "evalue": "No module named 'fbprophet'",
     "output_type": "error",
     "traceback": [
      "\u001b[1;31m---------------------------------------------------------------------------\u001b[0m",
      "\u001b[1;31mModuleNotFoundError\u001b[0m                       Traceback (most recent call last)",
      "Cell \u001b[1;32mIn[3], line 1\u001b[0m\n\u001b[1;32m----> 1\u001b[0m \u001b[38;5;28;01mfrom\u001b[39;00m \u001b[38;5;21;01mfbprophet\u001b[39;00m \u001b[38;5;28;01mimport\u001b[39;00m Prophet\n\u001b[0;32m      2\u001b[0m \u001b[38;5;28;01mfrom\u001b[39;00m \u001b[38;5;21;01mfbprophet\u001b[39;00m\u001b[38;5;21;01m.\u001b[39;00m\u001b[38;5;21;01mplot\u001b[39;00m \u001b[38;5;28;01mimport\u001b[39;00m plot_plotly\n\u001b[0;32m      3\u001b[0m \u001b[38;5;28;01mimport\u001b[39;00m \u001b[38;5;21;01mplotly\u001b[39;00m\u001b[38;5;21;01m.\u001b[39;00m\u001b[38;5;21;01moffline\u001b[39;00m \u001b[38;5;28;01mas\u001b[39;00m \u001b[38;5;21;01mpy\u001b[39;00m\n",
      "\u001b[1;31mModuleNotFoundError\u001b[0m: No module named 'fbprophet'"
     ]
    }
   ],
   "source": [
    "from fbprophet import Prophet\n",
    "from fbprophet.plot import plot_plotly\n",
    "import plotly.offline as py\n",
    "py.init_notebook_mode()"
   ]
  },
  {
   "cell_type": "code",
   "execution_count": null,
   "metadata": {},
   "outputs": [],
   "source": [
    "import numpy as np\n",
    "import pandas as pd\n",
    "import matplotlib.pyplot as plt\n",
    "%matplotlib inline\n",
    "plt.style.use('fivethirtyeight')"
   ]
  },
  {
   "cell_type": "markdown",
   "metadata": {},
   "source": [
    "### **Import data**"
   ]
  },
  {
   "cell_type": "code",
   "execution_count": null,
   "metadata": {},
   "outputs": [],
   "source": [
    "# Input data files are available in the read-only \"../input/\" directory\n",
    "# For example, running this (by clicking run or pressing Shift+Enter) will list all files under the input directory\n",
    "\n",
    "import os\n",
    "for dirname, _, filenames in os.walk('/kaggle/input'):\n",
    "for filename in filenames:\n",
    "        print(os.path.join(dirname, filename))\n"
   ]
  },
  {
   "cell_type": "code",
   "execution_count": null,
   "metadata": {},
   "outputs": [],
   "source": [
    "file = '/kaggle/input/air-passengers/AirPassengers.csv'\n",
    "\n",
    "df = pd.read_csv(file)"
   ]
  },
  {
   "cell_type": "markdown",
   "metadata": {},
   "source": [
    "### **Preview dataset**"
   ]
  },
  {
   "cell_type": "code",
   "execution_count": null,
   "metadata": {},
   "outputs": [],
   "source": [
    "df.head()"
   ]
  },
  {
   "cell_type": "markdown",
   "metadata": {},
   "source": [
    "We should rename the column name `#Passenegrs` as `AirPassengers`"
   ]
  },
  {
   "cell_type": "code",
   "execution_count": null,
   "metadata": {},
   "outputs": [],
   "source": [
    "df.rename(columns = {'#Passengers':'AirPassengers'}, inplace = True)"
   ]
  },
  {
   "cell_type": "markdown",
   "metadata": {},
   "source": [
    "### **Summary of dataset**\n",
    "\n",
    "\n",
    "\n",
    "Now, we will print the information about the dataset that will tell us about the columns, data type of the columns and whether the column is null or not null."
   ]
  },
  {
   "cell_type": "code",
   "execution_count": null,
   "metadata": {},
   "outputs": [],
   "source": [
    "df.info()"
   ]
  },
  {
   "cell_type": "markdown",
   "metadata": {},
   "source": [
    "- We can see that the dataset contains a `Month` and `AirPassengers` column. \n",
    "\n",
    "- Their data types are `object` and `int64` respectively.\n",
    "\n",
    "- The [Prophet](https://facebook.github.io/prophet/) library expects as input a dataframe with one column containing the time information, and another column containing the metric that we wish to forecast. \n",
    "\n",
    "- The important thing to note is that, the `Month` column must be of the datetime type. But, we can see that it is of `object` data type. Now, because the `Month` column is not of the datetime type. So, we’ll need to convert it into datetime type."
   ]
  },
  {
   "cell_type": "code",
   "execution_count": null,
   "metadata": {},
   "outputs": [],
   "source": [
    "df['Month'] = pd.DatetimeIndex(df['Month'])\n",
    "df.dtypes"
   ]
  },
  {
   "cell_type": "markdown",
   "metadata": {},
   "source": [
    "We can now see that our `Month` column is of the correct datetime type."
   ]
  },
  {
   "cell_type": "markdown",
   "metadata": {},
   "source": [
    "- [Prophet](https://facebook.github.io/prophet/) also imposes the strict condition that the input columns must be named as **ds (the time column)** and **y (the metric column)**. \n",
    "\n",
    "- So, we must rename the columns in our dataframe."
   ]
  },
  {
   "cell_type": "code",
   "execution_count": null,
   "metadata": {},
   "outputs": [],
   "source": [
    "df = df.rename(columns={'Month': 'ds',\n",
    "                        'AirPassengers': 'y'})\n",
    "\n",
    "df.head()"
   ]
  },
  {
   "cell_type": "markdown",
   "metadata": {},
   "source": [
    "We can see that the column names are renamed accordingly."
   ]
  },
  {
   "cell_type": "markdown",
   "metadata": {},
   "source": [
    "### **Visualize the data**\n",
    "\n",
    "\n",
    "Now, it is considered a good practice to visualize the data at hand. So let’s plot our time series data:"
   ]
  },
  {
   "cell_type": "code",
   "execution_count": null,
   "metadata": {},
   "outputs": [],
   "source": [
    "ax = df.set_index('ds').plot(figsize=(12, 8))\n",
    "ax.set_ylabel('Monthly Number of Airline Passengers')\n",
    "ax.set_xlabel('Date')\n",
    "\n",
    "plt.show()"
   ]
  },
  {
   "cell_type": "markdown",
   "metadata": {},
   "source": [
    "Now, our dataset is prepared and we are ready to use the Prophet library to produce forecasts of our time series."
   ]
  },
  {
   "cell_type": "markdown",
   "metadata": {},
   "source": [
    "# **6. Time Series Forecasting with Prophet** <a class=\"anchor\" id=\"6\"></a>\n",
    "\n",
    "\n",
    "[Table of Contents](#0.1) \n",
    "\n",
    "\n",
    "- Now, we will describe how to use the [Prophet](https://facebook.github.io/prophet/) library to predict future values of our time series data. \n",
    "\n",
    "- The developers of [Prophet](https://facebook.github.io/prophet/) have made it more intuitive for analysts and developers alike to work with time series data.\n",
    "\n",
    "- To begin, we must instantiate a new Prophet object. Prophet enables us to specify a number of arguments. For example, we can specify the desired range of our uncertainty interval by setting the `interval_width parameter`.\n"
   ]
  },
  {
   "cell_type": "code",
   "execution_count": null,
   "metadata": {},
   "outputs": [],
   "source": [
    "# set the uncertainty interval to 95% (the Prophet default is 80%)\n",
    "my_model = Prophet(interval_width=0.95)"
   ]
  },
  {
   "cell_type": "markdown",
   "metadata": {},
   "source": [
    "- Now that our Prophet model has been initialized, we can call its `fit` method with our DataFrame as input. "
   ]
  },
  {
   "cell_type": "code",
   "execution_count": null,
   "metadata": {},
   "outputs": [],
   "source": [
    "my_model.fit(df)"
   ]
  },
  {
   "cell_type": "markdown",
   "metadata": {},
   "source": [
    "- In order to obtain forecasts of our time series, we must provide Prophet with a new DataFrame containing a `ds` column that holds the dates for which we want predictions. \n",
    "\n",
    "- Conveniently, we do not have to concern ourselves with manually creating this DataFrame, as Prophet provides the `make_future_dataframe` helper function."
   ]
  },
  {
   "cell_type": "code",
   "execution_count": null,
   "metadata": {},
   "outputs": [],
   "source": [
    "future_dates = my_model.make_future_dataframe(periods=36, freq='MS')\n",
    "future_dates.head()"
   ]
  },
  {
   "cell_type": "markdown",
   "metadata": {},
   "source": [
    "- In the code snippet above, we instructed Prophet to generate 36 datestamps in the future."
   ]
  },
  {
   "cell_type": "markdown",
   "metadata": {},
   "source": [
    "- When working with Prophet, it is important to consider the frequency of our time series. \n",
    "\n",
    "- Because we are working with monthly data, we clearly specified the desired frequency of the timestamps (in this case, `MS` is the start of the month). \n",
    "\n",
    "- Therefore, the `make_future_dataframe` generated 36 monthly timestamps for us. \n",
    "\n",
    "- In other words, we are looking to predict future values of our time series 3 years into the future."
   ]
  },
  {
   "cell_type": "markdown",
   "metadata": {},
   "source": [
    "- The DataFrame of future dates is then used as input to the predict method of our fitted model."
   ]
  },
  {
   "cell_type": "code",
   "execution_count": null,
   "metadata": {},
   "outputs": [],
   "source": [
    "forecast = my_model.predict(future_dates)\n",
    "forecast[['ds', 'yhat', 'yhat_lower', 'yhat_upper']].head()"
   ]
  },
  {
   "cell_type": "markdown",
   "metadata": {},
   "source": [
    "Prophet returns a large DataFrame with many interesting columns, but we subset our output to the columns most relevant to forecasting. These are:\n",
    "\n",
    "  - **ds**: the datestamp of the forecasted value\n",
    "  - **yhat**: the forecasted value of our metric (in Statistics, yhat is a notation traditionally used to represent the predicted values of a value y)\n",
    "  - **yhat_lower**: the lower bound of our forecasts\n",
    "  - **yhat_upper**: the upper bound of our forecasts"
   ]
  },
  {
   "cell_type": "markdown",
   "metadata": {},
   "source": [
    "- A variation in values from the output presented is to be expected as Prophet relies on **Markov chain Monte Carlo (MCMC)** methods to generate its forecasts. \n",
    "\n",
    "- MCMC is a stochastic process, so values will be slightly different each time."
   ]
  },
  {
   "cell_type": "markdown",
   "metadata": {},
   "source": [
    "- Prophet also provides a convenient function to quickly plot the results of our forecasts as follows:"
   ]
  },
  {
   "cell_type": "code",
   "execution_count": null,
   "metadata": {},
   "outputs": [],
   "source": [
    "my_model.plot(forecast, uncertainty=True)"
   ]
  },
  {
   "cell_type": "markdown",
   "metadata": {},
   "source": [
    "- Prophet plots the observed values of our time series (the black dots), the forecasted values (blue line) and the uncertainty intervals of our forecasts (the blue shaded regions)."
   ]
  },
  {
   "cell_type": "markdown",
   "metadata": {},
   "source": [
    "- One other particularly strong feature of Prophet is its ability to return the components of our forecasts. \n",
    "\n",
    "- This can help reveal how daily, weekly and yearly patterns of the time series contribute to the overall forecasted values."
   ]
  },
  {
   "cell_type": "code",
   "execution_count": null,
   "metadata": {},
   "outputs": [],
   "source": [
    "my_model.plot_components(forecast)"
   ]
  },
  {
   "cell_type": "markdown",
   "metadata": {},
   "source": [
    "- The above plot provides interesting insights. \n",
    "\n",
    "- The first plot shows that the monthly volume of airline passengers has been linearly increasing over time. \n",
    "\n",
    "- The second plot highlights the fact that the weekly count of passengers peaks towards the end of the week and on Saturday. \n",
    "\n",
    "- The third plot shows that the most traffic occurs during the holiday months of July and August."
   ]
  },
  {
   "cell_type": "markdown",
   "metadata": {},
   "source": [
    "# **7. Plotting the forecasted components** <a class=\"anchor\" id=\"7\"></a>\n",
    "\n",
    "\n",
    "[Table of Contents](#0.1) \n",
    "\n",
    "\n",
    "\n",
    "- We can plot the trend and seasonality, components of the forecast as follows:"
   ]
  },
  {
   "cell_type": "code",
   "execution_count": null,
   "metadata": {},
   "outputs": [],
   "source": [
    "fig1 = my_model.plot_components(forecast)"
   ]
  },
  {
   "cell_type": "markdown",
   "metadata": {},
   "source": [
    "# **8. Adding ChangePoints to Prophet** <a class=\"anchor\" id=\"8\"></a>\n",
    "\n",
    "\n",
    "[Table of Contents](#0.1) \n",
    "\n",
    "\n",
    "- Changepoints are the datetime points where the time series have abrupt changes in the trajectory.\n",
    "\n",
    "- By default, Prophet adds 25 changepoints to the initial 80% of the data-set.\n",
    "\n",
    "- Let’s plot the vertical lines where the potential changepoints occurred."
   ]
  },
  {
   "cell_type": "code",
   "execution_count": null,
   "metadata": {},
   "outputs": [],
   "source": [
    "from fbprophet.plot import add_changepoints_to_plot\n",
    "fig = my_model.plot(forecast)\n",
    "a = add_changepoints_to_plot(fig.gca(), my_model, forecast)"
   ]
  },
  {
   "cell_type": "markdown",
   "metadata": {},
   "source": [
    "We can view the dates where the chagepoints occurred."
   ]
  },
  {
   "cell_type": "code",
   "execution_count": null,
   "metadata": {},
   "outputs": [],
   "source": [
    "my_model.changepoints"
   ]
  },
  {
   "cell_type": "markdown",
   "metadata": {},
   "source": [
    "- We can change the inferred changepoint range by setting the *changepoint_range*"
   ]
  },
  {
   "cell_type": "code",
   "execution_count": null,
   "metadata": {},
   "outputs": [],
   "source": [
    "pro_change= Prophet(changepoint_range=0.9)\n",
    "forecast = pro_change.fit(df).predict(future_dates)\n",
    "fig= pro_change.plot(forecast);\n",
    "a = add_changepoints_to_plot(fig.gca(), pro_change, forecast)"
   ]
  },
  {
   "cell_type": "markdown",
   "metadata": {},
   "source": [
    "The number of changepoints can be set by using the *n_changepoints* parameter when initializing prophet."
   ]
  },
  {
   "cell_type": "code",
   "execution_count": null,
   "metadata": {},
   "outputs": [],
   "source": [
    "pro_change= Prophet(n_changepoints=20, yearly_seasonality=True)\n",
    "forecast = pro_change.fit(df).predict(future_dates)\n",
    "fig= pro_change.plot(forecast);\n",
    "a = add_changepoints_to_plot(fig.gca(), pro_change, forecast)"
   ]
  },
  {
   "cell_type": "markdown",
   "metadata": {},
   "source": [
    "# **9. Adjusting Trend** <a class=\"anchor\" id=\"9\"></a>\n",
    "\n",
    "\n",
    "[Table of Contents](#0.1) \n",
    "\n",
    "\n",
    "- Prophet allows us to adjust the trend in case there is an overfit or underfit. \n",
    "\n",
    "- *changepoint_prior_scale* helps adjust the strength of the trend.\n",
    "\n",
    "- Default value for *changepoint_prior_scale* is 0.05. \n",
    "\n",
    "- Decrease the value to make the trend less flexible. \n",
    "\n",
    "- Increase the value of changepoint_prior_scale to make the trend more flexible.\n",
    "\n",
    "- Increasing the *changepoint_prior_scale* to 0.08 to make the trend flexible.\n"
   ]
  },
  {
   "cell_type": "code",
   "execution_count": null,
   "metadata": {},
   "outputs": [],
   "source": [
    "pro_change= Prophet(n_changepoints=20, yearly_seasonality=True, changepoint_prior_scale=0.08)\n",
    "forecast = pro_change.fit(df).predict(future_dates)\n",
    "fig= pro_change.plot(forecast);\n",
    "a = add_changepoints_to_plot(fig.gca(), pro_change, forecast)"
   ]
  },
  {
   "cell_type": "markdown",
   "metadata": {},
   "source": [
    "- Decreasing the *changepoint_prior_scale* to 0.001 to make the trend less flexible."
   ]
  },
  {
   "cell_type": "code",
   "execution_count": null,
   "metadata": {},
   "outputs": [],
   "source": [
    "pro_change= Prophet(n_changepoints=20, yearly_seasonality=True, changepoint_prior_scale=0.001)\n",
    "forecast = pro_change.fit(df).predict(future_dates)\n",
    "fig= pro_change.plot(forecast);\n",
    "a = add_changepoints_to_plot(fig.gca(), pro_change, forecast)"
   ]
  },
  {
   "cell_type": "markdown",
   "metadata": {},
   "source": [
    "# **10. Conclusion** <a class=\"anchor\" id=\"10\"></a>\n",
    "\n",
    "\n",
    "[Table of Contents](#0.1) \n",
    "\n",
    "\n",
    "- In this tutorial, we described how to use the Prophet library to perform time series forecasting in Python. \n",
    "\n",
    "- We have been using out-of-the box parameters, but Prophet enables us to specify many more arguments. \n",
    "\n",
    "- In particular, Prophet provides the functionality to bring your own knowledge about time series to the table."
   ]
  },
  {
   "cell_type": "markdown",
   "metadata": {},
   "source": [
    "# **11. References** <a class=\"anchor\" id=\"11\"></a>\n",
    "\n",
    "\n",
    "[Table of Contents](#0.1) \n",
    "\n",
    "\n",
    "The concepts and ideas in this notebook are tgaken from the following websites-\n",
    "\n",
    "- 1. https://facebook.github.io/prophet/\n",
    "\n",
    "- 2. https://facebook.github.io/prophet/docs/quick_start.html\n",
    "\n",
    "- 3. https://peerj.com/preprints/3190.pdf\n",
    "\n",
    "- 4. https://www.digitalocean.com/community/tutorials/a-guide-to-time-series-forecasting-with-prophet-in-python-3\n"
   ]
  },
  {
   "cell_type": "markdown",
   "metadata": {
    "_cell_guid": "79c7e3d0-c299-4dcb-8224-4455121ee9b0",
    "_uuid": "d629ff2d2480ee46fbb7e2d37f6b5fab8052498a",
    "collapsed": true,
    "jupyter": {
     "outputs_hidden": true
    }
   },
   "source": [
    "So, now we will come to the end of this notebook.\n",
    "\n",
    "I hope you find this kernel useful and enjoyable.\n",
    "\n",
    "Your comments and feedback are most welcome.\n",
    "\n",
    "Thank you\n"
   ]
  },
  {
   "cell_type": "markdown",
   "metadata": {},
   "source": [
    "[Go to Top](#0)"
   ]
  }
 ],
 "metadata": {
  "kaggle": {
   "accelerator": "none",
   "dataSources": [
    {
     "datasetId": 62956,
     "sourceId": 121905,
     "sourceType": "datasetVersion"
    }
   ],
   "dockerImageVersionId": 29962,
   "isGpuEnabled": false,
   "isInternetEnabled": false,
   "language": "python",
   "sourceType": "notebook"
  },
  "kernelspec": {
   "display_name": "Python 3 (ipykernel)",
   "language": "python",
   "name": "python3"
  },
  "language_info": {
   "codemirror_mode": {
    "name": "ipython",
    "version": 3
   },
   "file_extension": ".py",
   "mimetype": "text/x-python",
   "name": "python",
   "nbconvert_exporter": "python",
   "pygments_lexer": "ipython3",
   "version": "3.12.5"
  }
 },
 "nbformat": 4,
 "nbformat_minor": 4
}
